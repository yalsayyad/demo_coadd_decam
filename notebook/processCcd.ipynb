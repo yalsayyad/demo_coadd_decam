{
 "cells": [
  {
   "cell_type": "code",
   "execution_count": null,
   "metadata": {
    "collapsed": true
   },
   "outputs": [],
   "source": [
    "# load the LSST stack\n",
    "# source ~/lsst_devel/LSST/lsstsw/bin/setup.sh \n",
    "# setup pipe_tasks -t b1843\n",
    "# setup -j -r ~/lsst_devel/LSST/repos/ticket3704/obs_decam/"
   ]
  },
  {
   "cell_type": "code",
   "execution_count": null,
   "metadata": {
    "collapsed": false
   },
   "outputs": [],
   "source": [
    "import lsst.pipe.base as pipeBase\n",
    "from lsst.pipe.tasks.processCcd import ProcessCcdTask\n",
    "from lsst.obs.decam.decamNullIsr import DecamNullIsrTask"
   ]
  },
  {
   "cell_type": "code",
   "execution_count": null,
   "metadata": {
    "collapsed": true
   },
   "outputs": [],
   "source": [
    "from lsst.ip.isr import IsrTask\n",
    "import lsst.pex.config as pexConfig\n",
    "import lsst.pipe.base as pipeBase\n",
    "from lsst.pipe.tasks.calibrate import CalibrateTask, CalibrateConfig\n",
    "from lsst.pipe.tasks.characterizeImage import CharacterizeImageTask, CharacterizeImageConfig "
   ]
  },
  {
   "cell_type": "code",
   "execution_count": null,
   "metadata": {
    "collapsed": true
   },
   "outputs": [],
   "source": [
    "# try out one exposure\n",
    "visit=289851\n",
    "ccdnum = 22\n",
    "filterName='g'"
   ]
  },
  {
   "cell_type": "code",
   "execution_count": null,
   "metadata": {
    "collapsed": true
   },
   "outputs": [],
   "source": [
    "import lsst.daf.persistence as dafPersist\n",
    "butler = dafPersist.Butler('/Users/yusra/calexp_dir_Blind14A_10')"
   ]
  },
  {
   "cell_type": "code",
   "execution_count": null,
   "metadata": {
    "collapsed": true
   },
   "outputs": [],
   "source": [
    "# read in exposure\n",
    "# ccd level keys are visit, ccdnum and filter. filter for this dataset is 'g'\n",
    "# IF you want them to look nice: use github.com:yalsayyad/obs_decam (look out for branch number that reads in \n",
    "#        crblasted files instead of raw files)\n",
    "\n",
    "exposure = butler.get(\"instcal\", visit=visit, ccdnum=ccdnum, filter='g', immediate=True)\n",
    "exposureIdInfo = butler.get(\"expIdInfo\", visit=visit, ccdnum=ccdnum, filter='g', immediate=True)\n",
    "exposure.writeFits('filename.fits')\n"
   ]
  },
  {
   "cell_type": "code",
   "execution_count": null,
   "metadata": {
    "collapsed": true
   },
   "outputs": [],
   "source": [
    "# Characterize Image\n",
    "charImageConfig = CharacterizeImageConfig()\n",
    "charImage = CharacterizeImageTask()\n",
    "# charImage.characterize(exposure, exposureIdInfo=exposureIdInfo,  background=None) \n",
    "# OR\n",
    "charRes = charImage.characterize(exposure) #Everything else CAN be None\n",
    "exposure = charRes.exposure\n",
    "bkgd = charRes.background"
   ]
  },
  {
   "cell_type": "code",
   "execution_count": null,
   "metadata": {
    "collapsed": true
   },
   "outputs": [],
   "source": [
    "# Calibrate Image\n",
    "calibrateConfig = CalibrateConfig(doPhotoCal=False, doAstrometry=False)\n",
    "calibrateTask = CalibrateTask(config=calibrateConfig)\n",
    "calibRes = calibrateTask.calibrate(exposure, \n",
    "                        exposureIdInfo=None, background=bkgd, icSourceCat=None)\n",
    "\n",
    "# In original https://github.com/lsst/pipe_tasks/blob/master/python/lsst/pipe/tasks/processCcd.py\n",
    "# the run method is called like:             calibRes = self.calibrate.run(\n",
    "#                dataRef = sensorRef,\n",
    "#                exposure = charRes.exposure,\n",
    "#                background = charRes.background,\n",
    "#                doUnpersist = False,\n",
    "#                icSourceCat = charRes.sourceCat,\n",
    "#            )\n",
    "\n"
   ]
  },
  {
   "cell_type": "code",
   "execution_count": null,
   "metadata": {
    "collapsed": true
   },
   "outputs": [],
   "source": [
    "# Set results from processCCD, these are going to be the inputs to makeCoaddTempExp\n",
    "\n",
    "# charRes = charRes\n",
    "# calibRes = calibRes if self.config.doCalibrate else None\n",
    "# exposure = exposure\n",
    "# background = calibRes.background if self.config.doCalibrate else charRes.background\n"
   ]
  },
  {
   "cell_type": "raw",
   "metadata": {},
   "source": [
    "import lsst.skymap as skymap\n",
    "newSkyMapConfig  = skymap.discreteSkyMap.DiscreteSkyMapConfig(projection='STG', \n",
    "                                                              decList=[-4.9325280994132905], \n",
    "                                                               patchInnerDimensions=[2000, 2000], \n",
    "                                                              radiusList=[4.488775723429071],\n",
    "                                                              pixelScale=0.333, rotation=0.0, patchBorder=100, \n",
    "                                                              raList=[154.10660740464786], tractOverlap=0.0)\n",
    "\n",
    "hits_skymap = skymap.discreteSkyMap.DiscreteSkyMap(config = newSkyMapConfig)\n",
    "\n",
    "\n"
   ]
  },
  {
   "cell_type": "code",
   "execution_count": null,
   "metadata": {
    "collapsed": true
   },
   "outputs": [],
   "source": [
    "# Next step is done per patch:\n",
    "\n"
   ]
  },
  {
   "cell_type": "code",
   "execution_count": null,
   "metadata": {
    "collapsed": true
   },
   "outputs": [],
   "source": [
    "# to find out which patch overlaps the one ccd we processed (\"exposure\" now contains the \"calexp\")\n",
    "wcs = exposure.getWcs()\n",
    "\n",
    "tract = hits_skymap[0]\n",
    "\n",
    "tract.findPatch(wcs.pixelToSky(1000,1000))\n",
    "\n",
    "# answer: PatchInfo(index=(16, 17), innerBBox=Box2I((32000, 34000), (33999, 35999)), outerBBox=Box2I((31900, 33900), (34099, 36099)))"
   ]
  },
  {
   "cell_type": "code",
   "execution_count": null,
   "metadata": {
    "collapsed": true
   },
   "outputs": [],
   "source": [
    "def getSkyInfo(skyMap, xIndex, yIndex, tractId=0):\n",
    "    tractInfo = skyMap[tractId]\n",
    "    # patch format is \"xIndex,yIndex\"\n",
    "    patchInfo = tractInfo.getPatchInfo((xIndex, yIndex))\n",
    "    return pipeBase.Struct(\n",
    "        skyMap = skyMap,\n",
    "        tractInfo = tractInfo,\n",
    "        patchInfo = patchInfo,\n",
    "        wcs = tractInfo.getWcs(),\n",
    "        bbox = patchInfo.getOuterBBox(),\n",
    "    )\n",
    "\n",
    "\n",
    "skyInfo = getSkyInfo(hits_skymap, 16, 17, tractId=0)\n",
    "\n",
    "\n",
    "\n"
   ]
  },
  {
   "cell_type": "code",
   "execution_count": null,
   "metadata": {
    "collapsed": true
   },
   "outputs": [],
   "source": [
    "# For each patch: \n",
    "#     For each visit that overlaps the patch (assume all):\n",
    "#        makeCoaddTempExp for every visit by doing...\n",
    "#        For each ccd in that visit that overlaps the patch:\n",
    "#            warpAndPsfMatch.run\n",
    "#            coaddUtils.copyGoodPixels  "
   ]
  },
  {
   "cell_type": "code",
   "execution_count": null,
   "metadata": {
    "collapsed": true
   },
   "outputs": [],
   "source": [
    "# for this part we are going to assume that we are deep in the loop:\n",
    "xIndex, yIndex = (16, 17)\n",
    "filterName='g'\n",
    "visit=289851\n",
    "ccdnum = 22"
   ]
  },
  {
   "cell_type": "code",
   "execution_count": null,
   "metadata": {
    "collapsed": true
   },
   "outputs": [],
   "source": [
    "from lsst.pipe.tasks.makeCoaddTempExp import MakeCoaddTempExpTask, MakeCoaddTempExpConfig\n",
    "import lsst.afw.image as afwImage\n",
    "import lsst.coadd.utils as coaddUtils\n",
    "from lsst.meas.algorithms import CoaddPsf\n",
    "import numpy\n",
    "makeCTEConfig = MakeCoaddTempExpConfig()\n",
    "makeCTE = MakeCoaddTempExpTask(config=makeCTEConfig)\n",
    "\n",
    "\n"
   ]
  },
  {
   "cell_type": "code",
   "execution_count": null,
   "metadata": {
    "collapsed": true
   },
   "outputs": [],
   "source": [
    "coaddTempExp = afwImage.ExposureF(skyInfo.bbox, skyInfo.wcs)\n",
    "coaddTempExp.getMaskedImage().set(numpy.nan, afwImage.MaskU.getPlaneBitMask(\"NO_DATA\"), numpy.inf)\n",
    "totGoodPix = 0\n",
    "didSetMetadata = False\n",
    "modelPsf = makeCTEConfig.modelPsf.apply() if makeCTEConfig.doPsfMatch else None\n",
    "# number of \n",
    "ccdsInVisit = 1\n",
    "inputRecorder =  makeCTE.inputRecorder.makeCoaddTempExpRecorder(visit, ccdsInVisit)\n",
    "ccdId = exposure.getId()\n",
    "\n",
    "### NOW you start the loop over the 1-4 ccd's IN THIS VISIT that overlap this patch\n",
    "numGoodPix = 0\n",
    "calExp = exposure\n",
    "# We MIGHT need to subtract the backgrounds here. Double check.\n",
    "warpedCcdExp = makeCTE.warpAndPsfMatch.run(calExp, modelPsf=modelPsf, \n",
    "                                           wcs=skyInfo.wcs,maxBBox=skyInfo.bbox).exposure\n",
    "if didSetMetadata:\n",
    "    mimg = exposure.getMaskedImage()\n",
    "    mimg *= (coaddTempExp.getCalib().getFluxMag0()[0] / exposure.getCalib().getFluxMag0()[0])\n",
    "    del mimg\n",
    "\n",
    "numGoodPix = coaddUtils.copyGoodPixels(coaddTempExp.getMaskedImage(),\n",
    "                                       warpedCcdExp.getMaskedImage(),\n",
    "                                       makeCTE.getBadPixelMask())\n",
    "totGoodPix += numGoodPix\n",
    "if numGoodPix > 0 and not didSetMetadata:\n",
    "    coaddTempExp.setCalib(warpedCcdExp.getCalib())\n",
    "    coaddTempExp.setFilter(warpedCcdExp.getFilter())\n",
    "    didSetMetadata = True\n",
    "\n",
    "inputRecorder.addCalExp(calExp, ccdId, numGoodPix)\n",
    "\n",
    "##### End loop over ccds here:\n",
    "inputRecorder.finish(coaddTempExp, totGoodPix)\n",
    "if totGoodPix > 0 and didSetMetadata:\n",
    "coaddTempExp.setPsf(modelPsf if makeCTEConfig.doPsfMatch else\n",
    "                    CoaddPsf(inputRecorder.coaddInputs.ccds, skyInfo.wcs))\n",
    "    "
   ]
  }
 ],
 "metadata": {
  "kernelspec": {
   "display_name": "Python 2",
   "language": "python",
   "name": "python2"
  },
  "language_info": {
   "codemirror_mode": {
    "name": "ipython",
    "version": 2
   },
   "file_extension": ".py",
   "mimetype": "text/x-python",
   "name": "python",
   "nbconvert_exporter": "python",
   "pygments_lexer": "ipython2",
   "version": "2.7.12"
  }
 },
 "nbformat": 4,
 "nbformat_minor": 0
}
